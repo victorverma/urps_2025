{
 "cells": [
  {
   "cell_type": "code",
   "execution_count": 1,
   "metadata": {},
   "outputs": [],
   "source": [
    "import numpy as np\n",
    "import pandas as pd\n",
    "from autogluon.timeseries import TimeSeriesDataFrame, TimeSeriesPredictor\n",
    "from autogluon.timeseries.models import PatchTSTModel, TemporalFusionTransformerModel\n",
    "from plotnine import *\n",
    "from statsmodels.tsa.arima_process import ArmaProcess"
   ]
  },
  {
   "cell_type": "markdown",
   "metadata": {},
   "source": [
    "When we write a function, we ought to test it to ensure that it works. When a function operates on data, one way to test it is to simulate data from a model and verify that the function returns what it should for the simulated data.\n",
    "\n",
    "One of the simplest time series models is the AR(1) model, the autoregressive model of order 1. It is defined by the equation\n",
    "$$\n",
    "Y_t = \\phi Y_{t - 1} + \\epsilon_t, \\ t \\in \\mathbb{Z},\n",
    "$$\n",
    "where the $\\epsilon_t$'s are uncorrelated random variables with common mean zero and common variance $\\sigma^2$, and $\\epsilon_t$ is independent of $Y_{t - 1}, Y_{t - 2}, Y_{t - 3}, \\ldots$. The $\\epsilon_t$'s are called *innovations*. For a Gaussian AR(1) model, the innovations are $N(0, \\sigma^2)$ random variables.\n",
    "\n",
    "One desirable property of a time series model is *stationarity*. If the model is stationary, then the mean and variance of $Y_t$ don't depend on $t$. Also, the covariance between $Y_t$ and $Y_u$ depends on $t$ and $u$ only through $|t - u|$, so we can talk about *the* covariance at lag $\\ell$, $\\text{Cov}(Y_t, Y_{t + \\ell})$, which doesn't depend on $t$. The covariances at the various lags are called *autocovariances*. It can be shown that the AR(1) model is stationary if and only if $|\\phi| < 1$.\n",
    "\n",
    "Define a function `simulate_ar1` that draws a sample of size $n$ from a Gaussian AR(1) model with coefficient $\\phi$ and innovation standard deviation $\\sigma$.\n",
    "- Check whether $|\\phi| < 1$ - raise a `ValueError` if it isn't.\n",
    "- Use `statsmodels.tsa.arima_process.ArmaProcess` to create an object representing the time series.\n",
    "- Use the object's `generate_sample` method to generate a sample of size $n$.\n",
    "- Return the sample in a `TimeSeriesDataFrame`."
   ]
  },
  {
   "cell_type": "code",
   "execution_count": null,
   "metadata": {},
   "outputs": [],
   "source": [
    "def simulate_ar1(phi: float, sigma: float, n: int) -> TimeSeriesDataFrame:\n",
    "    pass"
   ]
  }
 ],
 "metadata": {
  "kernelspec": {
   "display_name": "Python 3",
   "language": "python",
   "name": "python3"
  },
  "language_info": {
   "codemirror_mode": {
    "name": "ipython",
    "version": 3
   },
   "file_extension": ".py",
   "mimetype": "text/x-python",
   "name": "python",
   "nbconvert_exporter": "python",
   "pygments_lexer": "ipython3",
   "version": "3.11.11"
  }
 },
 "nbformat": 4,
 "nbformat_minor": 2
}
